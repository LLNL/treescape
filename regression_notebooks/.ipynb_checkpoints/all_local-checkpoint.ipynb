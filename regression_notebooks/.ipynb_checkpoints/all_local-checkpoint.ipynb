{
 "cells": [
  {
   "cell_type": "code",
   "execution_count": null,
   "id": "592b4a09",
   "metadata": {
    "scrolled": false
   },
   "outputs": [],
   "source": [
    "dataset = \"/Users/aschwanden1/cali_data/newdemo/test\"\n",
    "xaxis = \"launchday\"\n",
    "metadata_key = \"test\"\n",
    "processes_for_parallel_read = 15\n",
    "\n",
    "import sys\n",
    " \n",
    "sys.path.append(\"/Users/aschwanden1/min-venv-local/lib/python3.9/site-packages\")\n",
    "sys.path.append(\"/Users/aschwanden1/treescape\")\n",
    "\n",
    "import treescape as tr\n",
    " \n",
    "caliReader = tr.CaliReader(dataset, processes_for_parallel_read)\n",
    "tsm1 = tr.TreeScapeModel(caliReader)\n",
    " \n",
    "sorted_tsm1 = sorted(tsm1, key=lambda run:run.metadata[xaxis])\n",
    "tsm1.update(sorted_tsm1)\n",
    " \n",
    "sl = tr.StackedLine()\n",
    "sl.setYMin(0)\n",
    "sl.setXAxis(xaxis)\n",
    "sl.setYAxis(tr.StackedLine.AVG)\n",
    "sl.setHeight(350)\n",
    "\n",
    "sl.setXAggregation(tr.StackedLine.AVG)\n",
    "sl.setDrillLevel([\"TimeIncrement\", \"LagrangeLeapFrog\"])\n",
    "#sl.setYMax(3500)\n",
    "# sl.setYMin(200) \n",
    "sl.setWidth(700)\n",
    "\n",
    "\n",
    "sl.render(tsm1)\n"
   ]
  },
  {
   "cell_type": "code",
   "execution_count": null,
   "id": "a2193db8",
   "metadata": {
    "scrolled": false
   },
   "outputs": [],
   "source": [
    "dataset = \"/Users/aschwanden1/datasets/newdemo/test_plus_6\"\n",
    "caliReader = tr.CaliReader(dataset, processes_for_parallel_read)\n",
    "tsm2 = tr.TreeScapeModel(caliReader)\n",
    "\n",
    "sorted_tsm2 = sorted(tsm2, key=lambda run:run.metadata[xaxis])\n",
    "tsm2.update(sorted_tsm2)\n",
    "\n",
    "sl2 = tr.StackedLine()\n",
    "sl2.setYMin(0)\n",
    "sl2.setXAxis(xaxis)\n",
    "sl2.setYAxis(tr.StackedLine.AVG)\n",
    "sl2.setHeight(350)\n",
    "\n",
    "sl2.setXAggregation(tr.StackedLine.AVG)\n",
    "sl2.setDrillLevel([\"TimeIncrement\", \"LagrangeLeapFrog\"])\n",
    "#sl.setYMax(3500)\n",
    "#sl.setYMin(200)\n",
    "sl2.setWidth(700)\n",
    "\n",
    "\n",
    "sl2.render(tsm2)"
   ]
  },
  {
   "cell_type": "code",
   "execution_count": null,
   "id": "51810cf1",
   "metadata": {},
   "outputs": [],
   "source": [
    "dataset = \"/Users/aschwanden1/datasets/newdemo/test_plus_24a\"\n",
    "caliReader = tr.CaliReader(dataset, processes_for_parallel_read)\n",
    "tsm3 = tr.TreeScapeModel(caliReader)\n",
    "\n",
    "sorted_tsm = sorted(tsm3, key=lambda run:run.metadata[xaxis])\n",
    "tsm3.update(sorted_tsm)\n",
    "\n",
    "sl3 = tr.StackedLine()\n",
    "sl3.setYMin(0)\n",
    "sl3.setXAxis(xaxis)\n",
    "sl3.setYAxis(tr.StackedLine.AVG)\n",
    "sl3.setHeight(350)\n",
    "\n",
    "sl3.setXAggregation(tr.StackedLine.AVG)\n",
    "sl3.setDrillLevel([\"TimeIncrement\", \"LagrangeLeapFrog\"])\n",
    "#sl.setYMax(3500)\n",
    "#sl.setYMin(200)\n",
    "sl3.setWidth(700)\n",
    "\n",
    "\n",
    "sl3.render(tsm3)"
   ]
  },
  {
   "cell_type": "code",
   "execution_count": null,
   "id": "52b9177f",
   "metadata": {},
   "outputs": [],
   "source": []
  }
 ],
 "metadata": {
  "kernelspec": {
   "display_name": "Python 3 (ipykernel)",
   "language": "python",
   "name": "python3"
  },
  "language_info": {
   "codemirror_mode": {
    "name": "ipython",
    "version": 3
   },
   "file_extension": ".py",
   "mimetype": "text/x-python",
   "name": "python",
   "nbconvert_exporter": "python",
   "pygments_lexer": "ipython3",
   "version": "3.9.13"
  }
 },
 "nbformat": 4,
 "nbformat_minor": 5
}
