{
 "cells": [
  {
   "cell_type": "code",
   "execution_count": null,
   "id": "cab54abf-8806-4bec-b2b1-3f75fc781bfb",
   "metadata": {
    "tags": []
   },
   "outputs": [],
   "source": [
    "dataset = \"/usr/gapps/spot/datasets/newdemo/test\"\n",
    "dataset = \"/g/g0/pascal/cali_data/test_24c\"\n",
    "\n",
    "xaxis = \"launchday\"\n",
    "metadata_key = \"test\"\n",
    "processes_for_parallel_read = 15\n",
    "\n",
    "import sys\n",
    " \n",
    "sys.path.append(\"/usr/gapps/spot/treescape-ven/lib/python3.9/site-packages\")\n",
    "sys.path.append(\"/g/g0/pascal/treescape\")\n",
    "\n",
    "\n",
    "import treescape as tr\n",
    "\n",
    "my = tr.MyTimer()\n",
    "my.mark('before cali reader')\n",
    "\n",
    "caliReader = tr.CaliReader(dataset, processes_for_parallel_read)\n",
    "my.mark('after cali reader')\n",
    "\n",
    "tsm = tr.TreeScapeModel(caliReader)\n",
    " \n",
    "sorted_tsm = sorted(tsm, key=lambda run:run.metadata[xaxis])\n",
    "tsm.update(sorted_tsm)\n",
    "\n",
    "my.mark('after sort')\n",
    "\n",
    "sl = tr.StackedLine()\n",
    "sl.setYMin(0)\n",
    "sl.setXAxis(xaxis)\n",
    "sl.setHeight(350)\n",
    "\n",
    "sl.setXAggregation(tr.StackedLine.MIN)\n",
    "sl.setDrillLevel([\"TimeIncrement\", \"LagrangeLeapFrog\"])\n",
    "#sl.setYMax(3500)\n",
    "#sl.setYMin(200)\n",
    "sl.setWidth(700)\n",
    "\n",
    "\n",
    "sl.render(tsm)\n",
    "my.mark('after render')\n",
    "my.print()"
   ]
  },
  {
   "cell_type": "code",
   "execution_count": null,
   "id": "290947de-1e98-4232-9ec3-aa44a960d91d",
   "metadata": {},
   "outputs": [],
   "source": []
  }
 ],
 "metadata": {
  "kernelspec": {
   "display_name": "Python 3 (ipykernel)",
   "language": "python",
   "name": "python3"
  },
  "language_info": {
   "codemirror_mode": {
    "name": "ipython",
    "version": 3
   },
   "file_extension": ".py",
   "mimetype": "text/x-python",
   "name": "python",
   "nbconvert_exporter": "python",
   "pygments_lexer": "ipython3",
   "version": "3.9.13"
  }
 },
 "nbformat": 4,
 "nbformat_minor": 5
}
