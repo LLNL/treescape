{
 "cells": [
  {
   "cell_type": "code",
   "execution_count": null,
   "id": "f00cb0ec-14d3-4a58-bfe6-76ca8cc4951b",
   "metadata": {
    "tags": []
   },
   "outputs": [],
   "source": [
    "##\n",
    "##This is a demo that uses TreeScape to track performance changes in nightly test runs.\n",
    "##\n",
    "##For a sample lulesh-based dataset that's currently on LC, this demo shows: \n",
    "## - A summary graph of the performance changes of 'main' for all tests over time, which is intended to reveal performance shifts at a quick glance\n",
    "## - For each test, a detailed stacked line graph that you can click to dig into the performance of individual code regions.\n",
    "## - For each day in the stacked line graph for a test, you can expand either the metadata or a flamegraph showing the performance/metadata of that specific day.\n",
    "##\n",
    "## The relevant code objects for controlling this are documented below. As of this writing, this is intended as a friendly beta-test. We are interested in feedback \n",
    "## and bug reports.\n",
    "##\n",
    "\n",
    "cali_file_loc = \"/usr/gapps/spot/datasets/newdemo/test\"\n",
    "xaxis = \"launchday\"\n",
    "metadata_key = \"test\"\n",
    "processes_for_parallel_read = 15\n",
    "initial_regions = [\"main\"]\n",
    "\n",
    "import sys\n",
    "\n",
    "sys.path.append(\"/usr/gapps/spot/treescape-ven/lib/python3.9/site-packages\")\n",
    "sys.path.append(\"/usr/gapps/spot/treescape\")\n",
    "\n",
    "import treescape as tr"
   ]
  },
  {
   "cell_type": "code",
   "execution_count": null,
   "id": "45f7be22-243a-48de-969c-9189e1c2b318",
   "metadata": {
    "tags": []
   },
   "outputs": [],
   "source": [
    "##\n",
    "##You load your caliper files into a TreeScapeModel, which is essentially a python list of runs. Each list entry is one run. You can\n",
    "##access that run's key/value metadata with the run.metadata dict. \n",
    "##By sorting/filtering/aggregating that python list you can control what data the subsequent visualizations operate on.\n",
    "##This demo will use the metadata kay 'launchday' to sort dataset. It will then use the metadata key 'test' (which represents the test name\n",
    "##associated with that run) to filter the data into different graphs. That will show performance over time per test.\n",
    "##\n",
    "caliReader = tr.CaliReader( cali_file_loc, processes_for_parallel_read )\n",
    "tsm = tr.TreeScapeModel( caliReader)\n",
    "#Always be sure to sort your data into some reasonable way. \n",
    "alltests = sorted(tsm, key=lambda x: x.metadata[xaxis])"
   ]
  },
  {
   "cell_type": "code",
   "execution_count": null,
   "id": "d8eb0a7f-123f-47d1-919c-e58080817e6b",
   "metadata": {
    "tags": []
   },
   "outputs": [],
   "source": [
    "##\n",
    "##For each initial_region (currently just 'main'), draw a graph showing all test's performance for that region over time.\n",
    "##MultiLine is a relatively-simple visualization component that draws multiple lines on a graph. It takes the xaxis metadata key, \n",
    "##the region to draw, and a metadata key to use for creating graphs.\n",
    "##\n",
    "grapher = tr.MultiLine(alltests)\n",
    "for region in initial_regions:\n",
    "    grapher.plot_sums( xaxis, region, metadata_key )"
   ]
  },
  {
   "cell_type": "code",
   "execution_count": null,
   "id": "fbfff753-4990-4bb8-bb78-85702b9795db",
   "metadata": {
    "tags": []
   },
   "outputs": [],
   "source": [
    "##\n",
    "##StackedLine is a visualization component that creates interactive stackedline charts. These can be cliked through to zoom in on regions.\n",
    "##When mouse-hovering over a specific day it can show the flamegraph/metadata for that day (if you expand that region).\n",
    "##\n",
    "sl = tr.StackedLine()\n",
    "\n",
    "##\n",
    "## Set parameters (size, what region to start at, aggregation) that control how we'll draw graphs.\n",
    "##\n",
    "# sets the X axis variable in the plot\n",
    "sl.setXAxis(xaxis)\n",
    "# If aggregate values.  possible values are tr.StackedLine.AVG, tr.StackedLine.MIN, tr.StackedLine.MAX, tr.StackedLine.SUM \n",
    "sl.setXAggregation(tr.StackedLine.AVG)\n",
    "# sets initial nodes to plot.  can plot nodes from the same or different levels of drill down.  You may click on the nodes to drill down.\n",
    "sl.setDrillLevel( initial_regions )\n",
    "# set the highest value in the plot\n",
    "#sl.setYMax(3500)\n",
    "# set the lowest value in the plot\n",
    "#sl.setYMin(200)\n",
    "# set the pixel width of the plot\n",
    "sl.setWidth(1100)\n",
    "# set the pixel height of the plot\n",
    "sl.setHeight(250)\n",
    "\n",
    "##\n",
    "## For each test, filter the TreeScapeModel list to be data for that test. Then draw a stacked line graph for that\n",
    "## filtered set of data. \n",
    "##\n",
    "for testname in { t.metadata[metadata_key] for t in tsm }:\n",
    "    print(testname)\n",
    "    # render each test.  click on \"Run Info\" button to see flamegraph and metadata\n",
    "    sl.render([t for t in tsm if t.metadata[metadata_key] == testname])"
   ]
  },
  {
   "cell_type": "code",
   "execution_count": null,
   "id": "bc488792-904c-4f37-b92d-09a7dc15721a",
   "metadata": {},
   "outputs": [],
   "source": []
  }
 ],
 "metadata": {
  "kernelspec": {
   "display_name": "Python 3 (ipykernel)",
   "language": "python",
   "name": "python3"
  },
  "language_info": {
   "codemirror_mode": {
    "name": "ipython",
    "version": 3
   },
   "file_extension": ".py",
   "mimetype": "text/x-python",
   "name": "python",
   "nbconvert_exporter": "python",
   "pygments_lexer": "ipython3",
   "version": "3.9.13"
  }
 },
 "nbformat": 4,
 "nbformat_minor": 5
}
