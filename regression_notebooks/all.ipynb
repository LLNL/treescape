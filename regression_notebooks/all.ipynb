{
 "cells": [
  {
   "cell_type": "code",
   "execution_count": null,
   "id": "9846804f",
   "metadata": {
    "tags": []
   },
   "outputs": [],
   "source": [
    "dataset = \"/usr/gapps/spot/datasets/newdemo/test\"\n",
    "xaxis = \"launchday\"\n",
    "metadata_key = \"test\"\n",
    "processes_for_parallel_read = 15\n",
    "\n",
    "import sys\n",
    " \n",
    "sys.path.append(\"/usr/gapps/spot/treescape-ven/lib/python3.9/site-packages\")\n",
    "sys.path.append(\"/usr/gapps/spot/treescape\")\n",
    "\n",
    "import treescape as tr\n",
    " \n",
    "caliReader = tr.CaliReader(dataset, processes_for_parallel_read)\n",
    "tsm = tr.TreeScapeModel(caliReader)\n",
    " \n",
    "sorted_tsm = sorted(tsm, key=lambda run:run.metadata[xaxis])\n",
    "tsm.update(sorted_tsm)\n",
    " \n",
    "sl = tr.StackedLine()\n",
    "sl.setYMin(0)\n",
    "sl.setXAxis(xaxis)\n",
    "sl.setHeight(350)\n",
    "\n",
    "sl.setXAggregation(tr.StackedLine.MIN)\n",
    "sl.setDrillLevel([\"TimeIncrement\", \"LagrangeLeapFrog\"])\n",
    "sl.setYMax(3500)\n",
    "sl.setYMin(200)\n",
    "sl.setWidth(700)\n",
    "\n",
    "sl.render(tsm)"
   ]
  },
  {
   "cell_type": "code",
   "execution_count": null,
   "id": "6da4cd43",
   "metadata": {},
   "outputs": [],
   "source": [
    "for testname in { t.metadata[metadata_key] for t in tsm }:\n",
    "    print(testname)\n",
    "    sl.render([t for t in tsm if t.metadata[metadata_key] == testname])"
   ]
  },
  {
   "cell_type": "code",
   "execution_count": null,
   "id": "882fc7a4",
   "metadata": {},
   "outputs": [],
   "source": []
  }
 ],
 "metadata": {
  "kernelspec": {
   "display_name": "Python 3 (ipykernel)",
   "language": "python",
   "name": "python3"
  },
  "language_info": {
   "codemirror_mode": {
    "name": "ipython",
    "version": 3
   },
   "file_extension": ".py",
   "mimetype": "text/x-python",
   "name": "python",
   "nbconvert_exporter": "python",
   "pygments_lexer": "ipython3",
   "version": "3.9.12"
  }
 },
 "nbformat": 4,
 "nbformat_minor": 5
}
