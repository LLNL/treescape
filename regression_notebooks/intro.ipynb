{
 "cells": [
  {
   "cell_type": "code",
   "execution_count": null,
   "id": "f00cb0ec-14d3-4a58-bfe6-76ca8cc4951b",
   "metadata": {
    "tags": []
   },
   "outputs": [],
   "source": [
    "cali_file_loc = \"/usr/gapps/spot/datasets/newdemo/test\"\n",
    "xaxis = \"launchday\"\n",
    "metadata_key = \"test\"\n",
    "processes_for_parallel_read = 15\n",
    "initial_regions = [\"main\"]\n",
    "\n",
    "import sys\n",
    "\n",
    "sys.path.append(\"/usr/gapps/spot/treescape-ven/lib/python3.9/site-packages\")\n",
    "sys.path.append(\"/usr/gapps/spot/treescape\")\n",
    "\n",
    "import treescape as tr\n",
    "\n",
    "caliReader = tr.CaliReader( cali_file_loc, processes_for_parallel_read )"
   ]
  },
  {
   "cell_type": "code",
   "execution_count": null,
   "id": "fbfff753-4990-4bb8-bb78-85702b9795db",
   "metadata": {
    "tags": []
   },
   "outputs": [],
   "source": [
    "sl = tr.StackedLine()\n",
    "\n",
    "# sets the X axis variable in the plot\n",
    "sl.setXAxis(xaxis)\n",
    "\n",
    "# aggregate values.  possible values are tr.StackedLine.AVG, tr.StackedLine.MIN, tr.StackedLine.MAX, tr.StackedLine.SUM \n",
    "sl.setXAggregation(tr.StackedLine.AVG)\n",
    "\n",
    "# sets initial nodes to plot.  can plot nodes from the same or different levels of drill down.  You may click on the nodes to drill down.\n",
    "sl.setDrillLevel( initial_regions )\n",
    "\n",
    "# set the highest value in the plot\n",
    "#sl.setYMax(3500)\n",
    "\n",
    "# set the lowest value in the plot\n",
    "#sl.setYMin(200)\n",
    "\n",
    "# set the width of the plot\n",
    "sl.setWidth(1100)\n",
    "\n",
    "# set the height of the plot\n",
    "sl.setHeight(250)\n",
    "\n",
    "tsm = tr.TreeScapeModel( caliReader )\n",
    "alltests = sorted(tsm, key=lambda x: x.metadata[xaxis])\n",
    "\n",
    "grapher = tr.MultiLine(alltests)\n"
   ]
  },
  {
   "cell_type": "code",
   "execution_count": null,
   "id": "d8eb0a7f-123f-47d1-919c-e58080817e6b",
   "metadata": {
    "tags": []
   },
   "outputs": [],
   "source": [
    "for region in initial_regions:\n",
    "    grapher.plot_sums( xaxis, region )"
   ]
  },
  {
   "cell_type": "code",
   "execution_count": null,
   "id": "8cdbe48b-58b0-4563-bee4-20426d2ae35b",
   "metadata": {
    "tags": []
   },
   "outputs": [],
   "source": [
    "for testname in { t.metadata[metadata_key] for t in tsm }:\n",
    "    print(testname)\n",
    "    # render each test.  click on \"Run Info\" button to see flamegraph and metadata\n",
    "    sl.render([t for t in tsm if t.metadata[metadata_key] == testname])"
   ]
  },
  {
   "cell_type": "code",
   "execution_count": null,
   "id": "bc488792-904c-4f37-b92d-09a7dc15721a",
   "metadata": {},
   "outputs": [],
   "source": []
  }
 ],
 "metadata": {
  "kernelspec": {
   "display_name": "Python 3 (ipykernel)",
   "language": "python",
   "name": "python3"
  },
  "language_info": {
   "codemirror_mode": {
    "name": "ipython",
    "version": 3
   },
   "file_extension": ".py",
   "mimetype": "text/x-python",
   "name": "python",
   "nbconvert_exporter": "python",
   "pygments_lexer": "ipython3",
   "version": "3.9.12"
  }
 },
 "nbformat": 4,
 "nbformat_minor": 5
}
