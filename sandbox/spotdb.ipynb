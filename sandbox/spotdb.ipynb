{
 "cells": [
  {
   "cell_type": "code",
   "execution_count": 1,
   "id": "3e7df25d",
   "metadata": {},
   "outputs": [
    {
     "ename": "ModuleNotFoundError",
     "evalue": "No module named 'spotdb'",
     "output_type": "error",
     "traceback": [
      "\u001b[0;31m---------------------------------------------------------------------------\u001b[0m",
      "\u001b[0;31mModuleNotFoundError\u001b[0m                       Traceback (most recent call last)",
      "Cell \u001b[0;32mIn[1], line 1\u001b[0m\n\u001b[0;32m----> 1\u001b[0m \u001b[38;5;28;01mimport\u001b[39;00m \u001b[38;5;21;01mspotdb\u001b[39;00m\n\u001b[1;32m      3\u001b[0m dataset_key \u001b[38;5;241m=\u001b[39m args\u001b[38;5;241m.\u001b[39mdataSetKey\n\u001b[1;32m      4\u001b[0m last_read \u001b[38;5;241m=\u001b[39m args\u001b[38;5;241m.\u001b[39mlastRead \u001b[38;5;129;01mor\u001b[39;00m \u001b[38;5;241m0\u001b[39m\n",
      "\u001b[0;31mModuleNotFoundError\u001b[0m: No module named 'spotdb'"
     ]
    }
   ],
   "source": [
    "import spotdb\n",
    "\n",
    "dataset_key = args.dataSetKey\n",
    "last_read = args.lastRead or 0\n",
    "maxLevels = args.maxLevels or 20\n",
    "\n",
    "from ErrorHandling import ErrorHandling\n",
    "\n",
    "ehandle = ErrorHandling()\n",
    "result = ehandle.check_file( dataset_key )\n",
    "\n",
    "writeToFile = args.writeToFile or 0\n",
    "cacheFilename = \"cacheToFE.json\"\n",
    "cachePath = dataset_key + '/' + cacheFilename\n",
    "\n",
    "try:\n",
    "   f = open( cachePath )\n",
    "   allJSON = f.read()\n",
    "   print(allJSON)\n",
    "   f.close()\n",
    "   return 1\n",
    "\n",
    "except IOError:\n",
    "   a=0  #print(\"File \" + cachePath + \" does not exists\")\n",
    "\n",
    "db = spotdb.connect(dataset_key, read_only=True)\n",
    "\n",
    "runs = []\n",
    "\n",
    "if last_read > 0:\n",
    "    runs = db.get_new_runs(last_read)\n",
    "else:\n",
    "    runs = db.get_all_run_ids()\n",
    "\n",
    "# merge \"global\" and \"regionprofile\" records into \"Runs\" structure\n",
    "\n",
    "globals = db.get_global_data(runs)\n",
    "records = db.get_regionprofiles(runs)\n",
    "\n",
    "rundata = { }\n",
    "\n",
    "for run in runs:\n",
    "    if run in globals and run in records:\n",
    "        rundata[run] = { \"Data\": records[run], \"Globals\": globals[run] }\n",
    "\n",
    "output = {\n",
    "\"Runs\"          : rundata,\n",
    "\"RunDataMeta\"   : db.get_metric_attribute_metadata(),\n",
    "\"RunGlobalMeta\" : db.get_global_attribute_metadata()\n",
    "}\n",
    "\n"
   ]
  },
  {
   "cell_type": "code",
   "execution_count": null,
   "id": "dade4e7e",
   "metadata": {},
   "outputs": [],
   "source": []
  },
  {
   "cell_type": "code",
   "execution_count": null,
   "id": "0104c5b2",
   "metadata": {},
   "outputs": [],
   "source": []
  }
 ],
 "metadata": {
  "kernelspec": {
   "display_name": "Python 3 (ipykernel)",
   "language": "python",
   "name": "python3"
  },
  "language_info": {
   "codemirror_mode": {
    "name": "ipython",
    "version": 3
   },
   "file_extension": ".py",
   "mimetype": "text/x-python",
   "name": "python",
   "nbconvert_exporter": "python",
   "pygments_lexer": "ipython3",
   "version": "3.9.13"
  }
 },
 "nbformat": 4,
 "nbformat_minor": 5
}
