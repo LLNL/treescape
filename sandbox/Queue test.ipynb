{
 "cells": [
  {
   "cell_type": "code",
   "execution_count": 1,
   "id": "d4627950",
   "metadata": {},
   "outputs": [
    {
     "name": "stdout",
     "output_type": "stream",
     "text": [
      "1, 6, \n",
      "1, \n",
      "6, \n",
      "\n",
      "2, 7, \n",
      "7, \n",
      "\n",
      "2, \n",
      "8, 8, \n",
      "3, \n",
      "\n",
      "3, \n",
      "9, 4, \n",
      "\n",
      "4, \n",
      "9, \n",
      "5, \n",
      "5, \n",
      "10, \n",
      "10, \n",
      "Results: [36, 1, 36, 1, 49, 49, 4, 4, 64, 9, 64, 9, 16, 81, 16, 81, 25, 25, 100, 100]\n"
     ]
    }
   ],
   "source": [
    "import threading\n",
    "import queue\n",
    "import time\n",
    "\n",
    "# Function to be run by each thread\n",
    "def compute_square(numbers, result_queue):\n",
    "    for n in numbers:\n",
    "        time.sleep(1)\n",
    "        print( str(n) + \", \")\n",
    "        result_queue.put(n * n)\n",
    "\n",
    "# Create a queue to store results\n",
    "result_queue = queue.Queue()\n",
    "\n",
    "# Define the data for each thread\n",
    "data1 = [1, 2, 3, 4, 5]\n",
    "data2 = [6, 7, 8, 9, 10]\n",
    "data3 = [1, 2, 3, 4, 5]\n",
    "data4 = [6, 7, 8, 9, 10]\n",
    "\n",
    "# Create two threads\n",
    "thread1 = threading.Thread(target=compute_square, args=(data1, result_queue))\n",
    "thread2 = threading.Thread(target=compute_square, args=(data2, result_queue))\n",
    "thread3 = threading.Thread(target=compute_square, args=(data3, result_queue))\n",
    "thread4 = threading.Thread(target=compute_square, args=(data4, result_queue))\n",
    "\n",
    "# Start the threads\n",
    "thread1.start()\n",
    "thread2.start()\n",
    "thread3.start()\n",
    "thread4.start()\n",
    "\n",
    "# Wait for both threads to finish\n",
    "thread1.join()\n",
    "thread2.join()\n",
    "thread3.join()\n",
    "thread4.join()\n",
    "\n",
    "# Collect all results\n",
    "results = []\n",
    "while not result_queue.empty():\n",
    "    results.append(result_queue.get())\n",
    "\n",
    "print(\"Results:\", results)\n"
   ]
  },
  {
   "cell_type": "code",
   "execution_count": null,
   "id": "d81dc5bb",
   "metadata": {},
   "outputs": [],
   "source": []
  }
 ],
 "metadata": {
  "kernelspec": {
   "display_name": "Python 3 (ipykernel)",
   "language": "python",
   "name": "python3"
  },
  "language_info": {
   "codemirror_mode": {
    "name": "ipython",
    "version": 3
   },
   "file_extension": ".py",
   "mimetype": "text/x-python",
   "name": "python",
   "nbconvert_exporter": "python",
   "pygments_lexer": "ipython3",
   "version": "3.9.13"
  }
 },
 "nbformat": 4,
 "nbformat_minor": 5
}
