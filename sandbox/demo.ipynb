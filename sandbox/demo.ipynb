{
 "cells": [
  {
   "cell_type": "code",
   "execution_count": 2,
   "id": "b5c06e50-991f-4010-8216-c85aee1deb3d",
   "metadata": {},
   "outputs": [
    {
     "ename": "ModuleNotFoundError",
     "evalue": "No module named 'StackedLine'",
     "output_type": "error",
     "traceback": [
      "\u001b[0;31m---------------------------------------------------------------------------\u001b[0m",
      "\u001b[0;31mModuleNotFoundError\u001b[0m                       Traceback (most recent call last)",
      "Cell \u001b[0;32mIn[2], line 7\u001b[0m\n\u001b[1;32m      4\u001b[0m sys\u001b[38;5;241m.\u001b[39mpath\u001b[38;5;241m.\u001b[39mappend(\u001b[38;5;124m\"\u001b[39m\u001b[38;5;124m/g/g0/pascal/stacked/python\u001b[39m\u001b[38;5;124m\"\u001b[39m)\n\u001b[1;32m      5\u001b[0m sys\u001b[38;5;241m.\u001b[39mpath\u001b[38;5;241m.\u001b[39mappend(\u001b[38;5;124m\"\u001b[39m\u001b[38;5;124m/g/g0/pascal/stacked/viz\u001b[39m\u001b[38;5;124m\"\u001b[39m)\n\u001b[0;32m----> 7\u001b[0m \u001b[38;5;28;01mfrom\u001b[39;00m \u001b[38;5;21;01mStackedLine\u001b[39;00m \u001b[38;5;28;01mimport\u001b[39;00m StackedLine\n\u001b[1;32m      8\u001b[0m \u001b[38;5;28;01mfrom\u001b[39;00m \u001b[38;5;21;01mTreeScapeModel\u001b[39;00m \u001b[38;5;28;01mimport\u001b[39;00m TreeScapeModel\n\u001b[1;32m      9\u001b[0m \u001b[38;5;28;01mfrom\u001b[39;00m \u001b[38;5;21;01mCaliReader\u001b[39;00m \u001b[38;5;28;01mimport\u001b[39;00m CaliReader\n",
      "\u001b[0;31mModuleNotFoundError\u001b[0m: No module named 'StackedLine'"
     ]
    }
   ],
   "source": [
    "import sys\n",
    "import time\n",
    "\n",
    "sys.path.append(\"/usr/gapps/spot/treescape/python\")\n",
    "sys.path.append(\"/usr/gapps/spot/treescape/viz\")\n",
    "\n",
    "from StackedLine import StackedLine\n",
    "from TreeScapeModel import TreeScapeModel\n",
    "from CaliReader import CaliReader\n",
    "import json\n",
    "\n",
    "cali_loc = \"/usr/gapps/spot/datasets/newdemo/test\"\n",
    "caliReader = CaliReader( cali_loc, 15 )\n",
    "\n",
    "tsm = TreeScapeModel( caliReader )\n",
    "\n",
    "# Assuming TreeScapeModel behaves like a list of dictionaries\n",
    "newlist = [run for run in tsm if run.metadata[\"test\"] == \"tiny\"]\n",
    "\n",
    "sorted_new = sorted( newlist, key=lambda run:run.metadata[\"launchday\"])\n",
    "tsm.update( sorted_new )\n",
    "\n",
    "sl = StackedLine()\n",
    "sl.setXAxis('launchday') # launchday\n",
    "\n",
    "sl.render(tsm)"
   ]
  },
  {
   "cell_type": "code",
   "execution_count": null,
   "id": "d693db86-87c6-4339-95be-d9cb3ee2f786",
   "metadata": {},
   "outputs": [],
   "source": [
    "caliReader = CaliReader(\"/usr/gapps/spot/datasets/newdemo/test\", 15)\n",
    "tsm = TreeScapeModel(caliReader)\n",
    "sl = StackedLine()\n",
    "sl.setXAxis('launchday')\n",
    "sl.setYMin(1)\n",
    "alltests = sorted(tsm, key=lambda x: x.metadata[\"launchdate\"])"
   ]
  },
  {
   "cell_type": "code",
   "execution_count": null,
   "id": "9bd2c9b7-58d4-4660-9037-ca83fa24875d",
   "metadata": {
    "tags": []
   },
   "outputs": [],
   "source": [
    "for testname in { t.metadata[\"test\"] for t in alltests }:\n",
    "    print(testname)\n",
    "    sl.render([t for t in alltests if t.metadata[\"test\"] == testname])"
   ]
  },
  {
   "cell_type": "code",
   "execution_count": null,
   "id": "3e2e5703-1b5a-4ca9-8a5a-be1ca5d82c82",
   "metadata": {},
   "outputs": [],
   "source": []
  }
 ],
 "metadata": {
  "kernelspec": {
   "display_name": "Python 3 (ipykernel)",
   "language": "python",
   "name": "python3"
  },
  "language_info": {
   "codemirror_mode": {
    "name": "ipython",
    "version": 3
   },
   "file_extension": ".py",
   "mimetype": "text/x-python",
   "name": "python",
   "nbconvert_exporter": "python",
   "pygments_lexer": "ipython3",
   "version": "3.9.13"
  }
 },
 "nbformat": 4,
 "nbformat_minor": 5
}
