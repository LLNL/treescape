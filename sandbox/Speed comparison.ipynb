{
 "cells": [
  {
   "cell_type": "code",
   "execution_count": 2,
   "id": "68b7e296",
   "metadata": {},
   "outputs": [
    {
     "name": "stdout",
     "output_type": "stream",
     "text": [
      "Make Dataframe with 50000                       4.6157402992248535\n",
      "Iterate over DataFrame 50000                    0.007587909698486328\n"
     ]
    }
   ],
   "source": [
    "import sys\n",
    "\n",
    "sys.path.append(\"python\")\n",
    "\n",
    "from MyTimer import MyTimer\n",
    "MyTimer(\"start\")\n",
    "\n",
    "import pandas as pd\n",
    "\n",
    "# Create a list to store DataFrames\n",
    "dataframes = []\n",
    "\n",
    "num = 50000\n",
    "\n",
    "# Create 10,000 DataFrames with some sample data\n",
    "for i in range(num):\n",
    "    data = {'A': [i, i+1, i+2],\n",
    "            'B': [i, i, i]}\n",
    "    df = pd.DataFrame(data)\n",
    "    dataframes.append(df)\n",
    "\n",
    "MyTimer(\"Make Dataframe with \"+str(num))\n",
    "    \n",
    "# Iterate over the list of DataFrames\n",
    "for index, df in enumerate(dataframes):\n",
    "    #print(f\"DataFrame {index}:\")\n",
    "    #print(df)\n",
    "    #print()\n",
    "    x=3\n",
    "\n",
    "a = MyTimer(\"Iterate over DataFrame \" + str(num))\n",
    "a.print()"
   ]
  },
  {
   "cell_type": "code",
   "execution_count": null,
   "id": "c6363d09",
   "metadata": {},
   "outputs": [],
   "source": [
    "import sys\n",
    "\n",
    "sys.path.append(\"python\")\n",
    "\n",
    "from MyTimer import MyTimer\n",
    "MyTimer(\"start\")\n",
    "            \n",
    "import pandas as pd\n",
    "\n",
    "# Create a list to store DataFrames\n",
    "dataframes = []\n",
    "\n",
    "num = 50000\n",
    "\n",
    "# Create 10,000 DataFrames with some sample data\n",
    "for i in range(num):\n",
    "    data = {'A': [i, i+1, i+2],\n",
    "            'B': [i, i, i]}\n",
    "    df = pd.DataFrame(data)\n",
    "    dataframes.append(df)\n",
    "\n",
    "MyTimer(\"Make Dataframe with \"+str(num))\n",
    "    \n",
    "# Iterate over the list of DataFrames\n",
    "for index, df in enumerate(dataframes):\n",
    "    #print(f\"DataFrame {index}:\")\n",
    "    #print(df)\n",
    "    #print()\n",
    "    x=3\n",
    "\n",
    "a = MyTimer(\"Iterate over DataFrame \" + str(num))\n",
    "a.print()"
   ]
  },
  {
   "cell_type": "code",
   "execution_count": 7,
   "id": "14dc1488",
   "metadata": {},
   "outputs": [
    {
     "ename": "AssertionError",
     "evalue": "",
     "output_type": "error",
     "traceback": [
      "\u001b[0;31m---------------------------------------------------------------------------\u001b[0m",
      "\u001b[0;31mAssertionError\u001b[0m                            Traceback (most recent call last)",
      "\u001b[0;32m/var/folders/dm/c1n_wkts7rn_mbfb3q491x3h000rrp/T/ipykernel_22034/1447828143.py\u001b[0m in \u001b[0;36m<module>\u001b[0;34m\u001b[0m\n\u001b[1;32m     25\u001b[0m \u001b[0mth_ens_glob\u001b[0m \u001b[0;34m=\u001b[0m \u001b[0mtt\u001b[0m\u001b[0;34m.\u001b[0m\u001b[0mThicket\u001b[0m\u001b[0;34m.\u001b[0m\u001b[0mfrom_caliperreader\u001b[0m\u001b[0;34m(\u001b[0m\u001b[0mprofiles_glob\u001b[0m\u001b[0;34m)\u001b[0m\u001b[0;34m\u001b[0m\u001b[0;34m\u001b[0m\u001b[0m\n\u001b[1;32m     26\u001b[0m \u001b[0;34m\u001b[0m\u001b[0m\n\u001b[0;32m---> 27\u001b[0;31m \u001b[0;32mif\u001b[0m \u001b[0mth_ens_glob\u001b[0m \u001b[0;34m==\u001b[0m \u001b[0;36m0\u001b[0m\u001b[0;34m:\u001b[0m\u001b[0;34m\u001b[0m\u001b[0;34m\u001b[0m\u001b[0m\n\u001b[0m\u001b[1;32m     28\u001b[0m     \u001b[0mprint\u001b[0m\u001b[0;34m(\u001b[0m\u001b[0;34m'no defined'\u001b[0m\u001b[0;34m)\u001b[0m\u001b[0;34m\u001b[0m\u001b[0;34m\u001b[0m\u001b[0m\n\u001b[1;32m     29\u001b[0m \u001b[0;32melse\u001b[0m\u001b[0;34m:\u001b[0m\u001b[0;34m\u001b[0m\u001b[0;34m\u001b[0m\u001b[0m\n",
      "\u001b[0;32m~/thicket/thicket/thicket.py\u001b[0m in \u001b[0;36m__eq__\u001b[0;34m(self, other)\u001b[0m\n\u001b[1;32m     82\u001b[0m             \u001b[0;34m(\u001b[0m\u001b[0mbool\u001b[0m\u001b[0;34m)\u001b[0m\u001b[0;34m:\u001b[0m \u001b[0;32mTrue\u001b[0m \u001b[0;32mif\u001b[0m \u001b[0mequal\u001b[0m\u001b[0;34m,\u001b[0m \u001b[0;32mFalse\u001b[0m \u001b[0motherwise\u001b[0m\u001b[0;34m\u001b[0m\u001b[0;34m\u001b[0m\u001b[0m\n\u001b[1;32m     83\u001b[0m         \"\"\"\n\u001b[0;32m---> 84\u001b[0;31m         \u001b[0;32massert\u001b[0m \u001b[0misinstance\u001b[0m\u001b[0;34m(\u001b[0m\u001b[0mother\u001b[0m\u001b[0;34m,\u001b[0m \u001b[0mThicket\u001b[0m\u001b[0;34m)\u001b[0m\u001b[0;34m\u001b[0m\u001b[0;34m\u001b[0m\u001b[0m\n\u001b[0m\u001b[1;32m     85\u001b[0m         return (\n\u001b[1;32m     86\u001b[0m             \u001b[0mself\u001b[0m\u001b[0;34m.\u001b[0m\u001b[0mgraph\u001b[0m \u001b[0;34m==\u001b[0m \u001b[0mother\u001b[0m\u001b[0;34m.\u001b[0m\u001b[0mgraph\u001b[0m\u001b[0;34m\u001b[0m\u001b[0;34m\u001b[0m\u001b[0m\n",
      "\u001b[0;31mAssertionError\u001b[0m: "
     ]
    }
   ],
   "source": [
    "import sys\n",
    "import platform\n",
    "import datetime as dt\n",
    "\n",
    "sys.path.append(\"/Users/aschwanden1/thicket\")\n",
    "\n",
    "import re\n",
    "\n",
    "import numpy as np\n",
    "import pandas as pd\n",
    "import matplotlib.pyplot as plt\n",
    "from IPython.display import display\n",
    "from IPython.display import HTML\n",
    "\n",
    "import hatchet as ht\n",
    "import thicket as tt\n",
    "\n",
    "from glob import glob\n",
    "\n",
    "import os\n",
    "\n",
    "PATH = '/Users/aschwanden1/lulesh_gen/100/'\n",
    "profiles_glob = [y for x in os.walk(PATH) for y in glob(os.path.join(x[0], '*.cali'))]\n",
    "\n",
    "th_ens_glob = tt.Thicket.from_caliperreader(profiles_glob)\n",
    "\n",
    "if th_ens_glob == 0:\n",
    "    print('no defined')\n",
    "else:\n",
    "    print('defined')"
   ]
  },
  {
   "cell_type": "code",
   "execution_count": null,
   "id": "8f1edc81",
   "metadata": {},
   "outputs": [],
   "source": []
  }
 ],
 "metadata": {
  "kernelspec": {
   "display_name": "Python 3 (ipykernel)",
   "language": "python",
   "name": "python3"
  },
  "language_info": {
   "codemirror_mode": {
    "name": "ipython",
    "version": 3
   },
   "file_extension": ".py",
   "mimetype": "text/x-python",
   "name": "python",
   "nbconvert_exporter": "python",
   "pygments_lexer": "ipython3",
   "version": "3.9.13"
  }
 },
 "nbformat": 4,
 "nbformat_minor": 5
}
