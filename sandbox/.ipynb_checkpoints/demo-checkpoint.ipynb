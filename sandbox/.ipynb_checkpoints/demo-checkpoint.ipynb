{
 "cells": [
  {
   "cell_type": "code",
   "execution_count": null,
   "id": "b5c06e50-991f-4010-8216-c85aee1deb3d",
   "metadata": {},
   "outputs": [],
   "source": [
    "import sys\n",
    "import time\n",
    "\n",
    "sys.path.append(\"/g/g0/pascal/stacked/python\")\n",
    "sys.path.append(\"/g/g0/pascal/stacked/viz\")\n",
    "\n",
    "from MyTimer import MyTimer\n",
    "from StackedLine import StackedLine\n",
    "from TreeScapeModel import TreeScapeModel\n",
    "from CaliReader import CaliReader\n",
    "import json\n",
    "\n",
    "\n",
    "m = MyTimer(\"start\")\n",
    "\n",
    "# Test\n",
    "cali_loc = \"/Users/aschwanden1/newdemo/test\"\n",
    "#cali_loc = \"/Users/aschwanden1/lulesh_gen/100b/\"\n",
    "cali_loc = \"/usr/gapps/spot/datasets/newdemo/test\"\n",
    "caliReader = CaliReader( cali_loc, 15 )\n",
    "\n",
    "tsm = TreeScapeModel( caliReader )\n",
    "\n",
    "# Assuming TreeScapeModel behaves like a list of dictionaries\n",
    "newlist = [run for run in tsm if run.metadata[\"test\"] == \"tiny\"]\n",
    "\n",
    "sorted_new = sorted( newlist, key=lambda run:run.metadata[\"launchday\"])\n",
    "tsm.update( sorted_new )\n",
    "\n",
    "sl = StackedLine()\n",
    "sl.setXAxis('launchday') # launchday\n",
    "\n",
    "sl.render(tsm)"
   ]
  },
  {
   "cell_type": "code",
   "execution_count": null,
   "id": "d693db86-87c6-4339-95be-d9cb3ee2f786",
   "metadata": {},
   "outputs": [],
   "source": [
    "caliReader = CaliReader(\"/usr/gapps/spot/datasets/newdemo/test\", 15)\n",
    "tsm = TreeScapeModel(caliReader)\n",
    "sl = StackedLine()\n",
    "sl.setXAxis('launchday')\n",
    "sl.setYMin(1)\n",
    "alltests = sorted(tsm, key=lambda x: x.metadata[\"launchdate\"])"
   ]
  },
  {
   "cell_type": "code",
   "execution_count": null,
   "id": "9bd2c9b7-58d4-4660-9037-ca83fa24875d",
   "metadata": {
    "tags": []
   },
   "outputs": [],
   "source": [
    "for testname in { t.metadata[\"test\"] for t in alltests }:\n",
    "    print(testname)\n",
    "    sl.render([t for t in alltests if t.metadata[\"test\"] == testname])"
   ]
  },
  {
   "cell_type": "code",
   "execution_count": null,
   "id": "3e2e5703-1b5a-4ca9-8a5a-be1ca5d82c82",
   "metadata": {},
   "outputs": [],
   "source": []
  }
 ],
 "metadata": {
  "kernelspec": {
   "display_name": "Python 3 (ipykernel)",
   "language": "python",
   "name": "python3"
  },
  "language_info": {
   "codemirror_mode": {
    "name": "ipython",
    "version": 3
   },
   "file_extension": ".py",
   "mimetype": "text/x-python",
   "name": "python",
   "nbconvert_exporter": "python",
   "pygments_lexer": "ipython3",
   "version": "3.9.13"
  }
 },
 "nbformat": 4,
 "nbformat_minor": 5
}
