{
 "cells": [
  {
   "cell_type": "code",
   "execution_count": 3,
   "id": "0860e8c1",
   "metadata": {},
   "outputs": [
    {
     "name": "stdout",
     "output_type": "stream",
     "text": [
      "Memory usage: 0 bytes\n"
     ]
    }
   ],
   "source": [
    "import time\n",
    "\n",
    "def my_func():\n",
    "    a = [i for i in range(1000000)]\n",
    "    time.sleep(1)  # Simulate some computation\n",
    "    b = [i * 2 for i in a]\n",
    "    del a  # Simulate freeing up memory\n",
    "    \n",
    "    \n",
    "    \n",
    "import sys\n",
    "\n",
    "# Get size of variables before function call\n",
    "start_memory = sys.getsizeof({})\n",
    "\n",
    "# Call the function\n",
    "my_func()\n",
    "\n",
    "# Get size of variables after function call\n",
    "end_memory = sys.getsizeof({})\n",
    "\n",
    "# Calculate memory usage\n",
    "memory_usage = end_memory - start_memory\n",
    "print(\"Memory usage:\", memory_usage, \"bytes\")\n"
   ]
  },
  {
   "cell_type": "code",
   "execution_count": null,
   "id": "34e24533",
   "metadata": {},
   "outputs": [],
   "source": []
  }
 ],
 "metadata": {
  "kernelspec": {
   "display_name": "Python 3 (ipykernel)",
   "language": "python",
   "name": "python3"
  },
  "language_info": {
   "codemirror_mode": {
    "name": "ipython",
    "version": 3
   },
   "file_extension": ".py",
   "mimetype": "text/x-python",
   "name": "python",
   "nbconvert_exporter": "python",
   "pygments_lexer": "ipython3",
   "version": "3.9.13"
  }
 },
 "nbformat": 4,
 "nbformat_minor": 5
}
