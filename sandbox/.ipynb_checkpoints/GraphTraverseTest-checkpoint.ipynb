{
 "cells": [
  {
   "cell_type": "code",
   "execution_count": 2,
   "id": "9d0b4513",
   "metadata": {},
   "outputs": [
    {
     "ename": "TypeError",
     "evalue": "__init__() missing 2 required positional arguments: 'th_ens' and 'profiles'",
     "output_type": "error",
     "traceback": [
      "\u001b[0;31m---------------------------------------------------------------------------\u001b[0m",
      "\u001b[0;31mTypeError\u001b[0m                                 Traceback (most recent call last)",
      "Cell \u001b[0;32mIn[2], line 6\u001b[0m\n\u001b[1;32m      3\u001b[0m sys\u001b[38;5;241m.\u001b[39mpath\u001b[38;5;241m.\u001b[39mappend(\u001b[38;5;124m\"\u001b[39m\u001b[38;5;124m../python\u001b[39m\u001b[38;5;124m\"\u001b[39m)\n\u001b[1;32m      4\u001b[0m \u001b[38;5;28;01mfrom\u001b[39;00m \u001b[38;5;21;01mGraphTraverseModel\u001b[39;00m \u001b[38;5;28;01mimport\u001b[39;00m GraphTraverseModel\n\u001b[0;32m----> 6\u001b[0m gtm \u001b[38;5;241m=\u001b[39m \u001b[43mGraphTraverseModel\u001b[49m\u001b[43m(\u001b[49m\u001b[43m)\u001b[49m\n\u001b[1;32m      7\u001b[0m gtm\u001b[38;5;241m.\u001b[39mgetChildrenNamesFor(\u001b[38;5;124m\"\u001b[39m\u001b[38;5;124mLagrangeElements\u001b[39m\u001b[38;5;124m\"\u001b[39m)\n",
      "\u001b[0;31mTypeError\u001b[0m: __init__() missing 2 required positional arguments: 'th_ens' and 'profiles'"
     ]
    }
   ],
   "source": [
    "import sys\n",
    "\n",
    "sys.path.append(\"../python\")\n",
    "from GraphTraverseModel import GraphTraverseModel\n",
    "\n",
    "gtm = GraphTraverseModel()\n",
    "gtm.getChildrenNamesFor(\"LagrangeElements\")"
   ]
  },
  {
   "cell_type": "code",
   "execution_count": null,
   "id": "844229a7",
   "metadata": {},
   "outputs": [],
   "source": [
    "gtm.getChildrenNamesFor(\"LagrangeLeapFrog\")"
   ]
  },
  {
   "cell_type": "code",
   "execution_count": 3,
   "id": "048490b9",
   "metadata": {},
   "outputs": [
    {
     "name": "stdout",
     "output_type": "stream",
     "text": [
      "{'lulesh.cycle': 'main', 'TimeIncrement': 'lulesh.cycle', 'LagrangeLeapFrog': 'lulesh.cycle', 'LagrangeNodal': 'LagrangeLeapFrog', 'LagrangeElements': 'LagrangeLeapFrog', 'CalcTimeConstraintsForElems': 'LagrangeLeapFrog', 'CalcLagrangeElements': 'LagrangeElements', 'CalcQForElems': 'LagrangeElements', 'ApplyMaterialPropertiesForElems': 'LagrangeElements', 'EvalEOSForElems': 'ApplyMaterialPropertiesForElems', 'CalcEnergyForElems': 'EvalEOSForElems', 'CalcKinematicsForElems': 'CalcLagrangeElements', 'CalcMonotonicQForElems': 'CalcQForElems', 'CalcForceForNodes': 'LagrangeNodal', 'CalcVolumeForceForElems': 'CalcForceForNodes', 'IntegrateStressForElems': 'CalcVolumeForceForElems', 'CalcHourglassControlForElems': 'CalcVolumeForceForElems', 'CalcFBHourglassForceForElems': 'CalcHourglassControlForElems'}\n"
     ]
    }
   ],
   "source": [
    "sys.path.append(\"python\")\n",
    "from GraphTraverseModel import GraphTraverseModel\n",
    "\n",
    "gtm = GraphTraverseModel()\n",
    "map0 = gtm.getChildToParentMapping()\n",
    "print(map0)"
   ]
  },
  {
   "cell_type": "code",
   "execution_count": 3,
   "id": "210b9bb2",
   "metadata": {},
   "outputs": [
    {
     "ename": "ModuleNotFoundError",
     "evalue": "No module named 'StackedLine'",
     "output_type": "error",
     "traceback": [
      "\u001b[0;31m---------------------------------------------------------------------------\u001b[0m",
      "\u001b[0;31mModuleNotFoundError\u001b[0m                       Traceback (most recent call last)",
      "Cell \u001b[0;32mIn[3], line 6\u001b[0m\n\u001b[1;32m      3\u001b[0m sys\u001b[38;5;241m.\u001b[39mpath\u001b[38;5;241m.\u001b[39mappend(\u001b[38;5;124m\"\u001b[39m\u001b[38;5;124mpython\u001b[39m\u001b[38;5;124m\"\u001b[39m)\n\u001b[1;32m      4\u001b[0m sys\u001b[38;5;241m.\u001b[39mpath\u001b[38;5;241m.\u001b[39mappend(\u001b[38;5;124m\"\u001b[39m\u001b[38;5;124mviz\u001b[39m\u001b[38;5;124m\"\u001b[39m)\n\u001b[0;32m----> 6\u001b[0m \u001b[38;5;28;01mfrom\u001b[39;00m \u001b[38;5;21;01mStackedLine\u001b[39;00m \u001b[38;5;28;01mimport\u001b[39;00m StackedLine\n\u001b[1;32m      7\u001b[0m \u001b[38;5;28;01mfrom\u001b[39;00m \u001b[38;5;21;01mThicketWrapper\u001b[39;00m \u001b[38;5;28;01mimport\u001b[39;00m ThicketWrapper, TH_ens\n\u001b[1;32m      8\u001b[0m \u001b[38;5;28;01mfrom\u001b[39;00m \u001b[38;5;21;01mTreeScapeModel\u001b[39;00m \u001b[38;5;28;01mimport\u001b[39;00m TreeScapeModel\n",
      "\u001b[0;31mModuleNotFoundError\u001b[0m: No module named 'StackedLine'"
     ]
    }
   ],
   "source": [
    "import sys\n",
    "\n",
    "sys.path.append(\"python\")\n",
    "sys.path.append(\"viz\")\n",
    "\n",
    "from StackedLine import StackedLine\n",
    "from ThicketWrapper import ThicketWrapper, TH_ens\n",
    "from TreeScapeModel import TreeScapeModel\n",
    "\n",
    "# your script here\n",
    "th_obj = TH_ens()\n",
    "\n",
    "th_ens, profiles = th_obj.get_th_ens()\n",
    "\n",
    "\n",
    "model = TreeScapeModel(th_ens, profiles, \"launchdate\")\n"
   ]
  },
  {
   "cell_type": "code",
   "execution_count": null,
   "id": "f4e98140",
   "metadata": {},
   "outputs": [],
   "source": []
  }
 ],
 "metadata": {
  "kernelspec": {
   "display_name": "Python 3 (ipykernel)",
   "language": "python",
   "name": "python3"
  },
  "language_info": {
   "codemirror_mode": {
    "name": "ipython",
    "version": 3
   },
   "file_extension": ".py",
   "mimetype": "text/x-python",
   "name": "python",
   "nbconvert_exporter": "python",
   "pygments_lexer": "ipython3",
   "version": "3.9.13"
  }
 },
 "nbformat": 4,
 "nbformat_minor": 5
}
