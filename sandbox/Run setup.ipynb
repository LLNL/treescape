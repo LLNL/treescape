{
 "cells": [
  {
   "cell_type": "code",
   "execution_count": 2,
   "id": "4f3b52ba",
   "metadata": {},
   "outputs": [
    {
     "name": "stdout",
     "output_type": "stream",
     "text": [
      "[<Run.Node object at 0x7f8420401a90>, <Run.Node object at 0x7f8420401be0>, <Run.Node object at 0x7f84204018b0>]\n"
     ]
    }
   ],
   "source": [
    "import sys\n",
    "import time\n",
    "\n",
    "sys.path.append(\"../python\")\n",
    "sys.path.append(\"../viz\")\n",
    "\n",
    "from Run import Node, Run\n",
    "\n",
    "metadata = {\n",
    "    \"caliperreaderversion\": 2.3,\n",
    "    \"threads\": 23,\n",
    "    \"problem_size\": 4,\n",
    "    \"elapsed_time\": 7,\n",
    "    \"figure_of_merit\": 234\n",
    "}\n",
    "\n",
    "child_map = {\n",
    "    \"main\": [\"lulesh.cycle\"],\n",
    "    \"lulesh.cycle\": [\"LagrangeLeapFrog\"],\n",
    "    \"LagrangeLeapFrog\": [\"LagrangeElements\", \"LagrangeNodal\"]\n",
    "}\n",
    "\n",
    "\n",
    "run = Run(metadata, child_map)\n",
    "run.append_node( Node({\"sum\":14, \"avg\":13, \"min\": 1}, \"main\") )\n",
    "run.append_node( Node({\"sum\":14, \"avg\":13, \"min\": 1}, \"lulesh.cycle\") )\n",
    "run.append_node( Node({\"sum\":14, \"avg\":13, \"min\": 1}, \"LagrangeLeapFrog\") )\n",
    "\n",
    "\n",
    "run2 = Run(metadata2, child_map2)\n",
    "run2.append_node( Node({\"sum\":14, \"avg\":13, \"min\": 0}, \"main\") )\n",
    "run2.append_node( Node({\"sum\":14, \"avg\":13, \"min\": 0}, \"lulesh.cycle\") )\n",
    "run2.append_node( Node({\"sum\":14, \"avg\":13, \"min\": 1}, \"LagrangeLeapFrog\") )\n",
    "\n",
    "\n",
    "run3 = Run(metadata3, child_map3)\n",
    "run3.append_node( Node({\"sum\":14, \"avg\":13, \"min\": 0}, \"main\") )\n",
    "run3.append_node( Node({\"sum\":14, \"avg\":13, \"min\": 0}, \"lulesh.cycle\") )\n",
    "run3.append_node( Node({\"sum\":14, \"avg\":13, \"min\": 1}, \"LagrangeLeapFrog\") )\n",
    "\n",
    "run.print()"
   ]
  },
  {
   "cell_type": "code",
   "execution_count": null,
   "id": "95ec0197",
   "metadata": {},
   "outputs": [],
   "source": []
  }
 ],
 "metadata": {
  "kernelspec": {
   "display_name": "Python 3 (ipykernel)",
   "language": "python",
   "name": "python3"
  },
  "language_info": {
   "codemirror_mode": {
    "name": "ipython",
    "version": 3
   },
   "file_extension": ".py",
   "mimetype": "text/x-python",
   "name": "python",
   "nbconvert_exporter": "python",
   "pygments_lexer": "ipython3",
   "version": "3.9.13"
  }
 },
 "nbformat": 4,
 "nbformat_minor": 5
}
