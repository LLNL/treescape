{
 "cells": [
  {
   "cell_type": "code",
   "execution_count": 1,
   "id": "f88d0d81",
   "metadata": {},
   "outputs": [
    {
     "name": "stdout",
     "output_type": "stream",
     "text": [
      "1713295746.2633111 1713295744.257844 2.005467176437378\n",
      "1713295746.466718 1713295746.2633111 0.20340681076049805\n",
      "1713295746.467284 1713295746.466718 0.0005660057067871094\n",
      "1713295746.4674041 1713295746.467284 0.0001201629638671875\n",
      "1713295746.467513 1713295746.4674041 0.00010895729064941406\n",
      "1713295746.467621 1713295746.467513 0.00010800361633300781\n",
      "howdy                                           2.005467176437378\n",
      "noxo                                            0.20340681076049805\n",
      "valinla                                         0.0005660057067871094\n",
      "third asfasdf                                   0.0001201629638671875\n",
      "third asfasdf454                                0.00010895729064941406\n",
      "third asfasd345345f                             0.00010800361633300781\n"
     ]
    }
   ],
   "source": [
    "import sys\n",
    "import time\n",
    "\n",
    "sys.path.append(\"python\")\n",
    "\n",
    "from MyTimer import MyTimer\n",
    "\n",
    "t0 = MyTimer(\"start\")\n",
    "time.sleep(2)\n",
    "t1 = MyTimer(\"howdy\")\n",
    "time.sleep(0.2)\n",
    "t3 = MyTimer('noxo')\n",
    "t4 = MyTimer('valinla')\n",
    "t2 = MyTimer(\"third asfasdf\")\n",
    "t2 = MyTimer(\"third asfasdf454\")\n",
    "t2 = MyTimer(\"third asfasd345345f\")\n",
    "\n",
    "t1.print()"
   ]
  },
  {
   "cell_type": "code",
   "execution_count": 2,
   "id": "23372190",
   "metadata": {},
   "outputs": [
    {
     "name": "stdout",
     "output_type": "stream",
     "text": [
      "first                                           0.000045\n",
      "second                                          1713295746.492034\n",
      "third                                           0.000086\n"
     ]
    }
   ],
   "source": [
    "from time import time\n",
    "\n",
    "class MyTimer:\n",
    "    markers = []\n",
    "\n",
    "    def __init__(self, name):\n",
    "        if name == \"start\":\n",
    "            self.startNow()\n",
    "        else:\n",
    "            self.mark(name)\n",
    "\n",
    "    def startNow(self):\n",
    "        MyTimer.start = time()\n",
    "        MyTimer.markers = []\n",
    "\n",
    "    def mark(self, label_name):\n",
    "        now = time()\n",
    "        if not MyTimer.markers:\n",
    "            last_time = MyTimer.start\n",
    "        else:\n",
    "            last_time = MyTimer.markers[-1][1]\n",
    "        elapsed_time = now - last_time\n",
    "        MyTimer.markers.append([label_name, elapsed_time])\n",
    "\n",
    "    def print(self):\n",
    "        for label, value in MyTimer.markers:\n",
    "            padded_label = label.ljust(40)\n",
    "            print(f\"{padded_label}        {value:.6f}\")\n",
    "\n",
    "# Example usage:\n",
    "t = MyTimer(\"start\")\n",
    "t.mark(\"first\")\n",
    "t.mark(\"second\")\n",
    "t.mark(\"third\")\n",
    "t.print()\n"
   ]
  },
  {
   "cell_type": "code",
   "execution_count": null,
   "id": "bbf5408b",
   "metadata": {},
   "outputs": [],
   "source": []
  },
  {
   "cell_type": "code",
   "execution_count": null,
   "id": "1ad2ea66",
   "metadata": {},
   "outputs": [],
   "source": []
  }
 ],
 "metadata": {
  "kernelspec": {
   "display_name": "Python 3 (ipykernel)",
   "language": "python",
   "name": "python3"
  },
  "language_info": {
   "codemirror_mode": {
    "name": "ipython",
    "version": 3
   },
   "file_extension": ".py",
   "mimetype": "text/x-python",
   "name": "python",
   "nbconvert_exporter": "python",
   "pygments_lexer": "ipython3",
   "version": "3.9.13"
  }
 },
 "nbformat": 4,
 "nbformat_minor": 5
}
