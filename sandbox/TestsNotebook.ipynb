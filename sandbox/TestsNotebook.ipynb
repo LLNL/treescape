{
 "cells": [
  {
   "cell_type": "code",
   "execution_count": 3,
   "id": "f2d30f70",
   "metadata": {
    "tags": []
   },
   "outputs": [
    {
     "name": "stdout",
     "output_type": "stream",
     "text": [
      "For path: /usr/gapps/spot/datasets/newdemo/test.  Invalid or non-existent directory.\n"
     ]
    },
    {
     "ename": "SystemExit",
     "evalue": "",
     "output_type": "error",
     "traceback": [
      "An exception has occurred, use %tb to see the full traceback.\n",
      "\u001b[0;31mSystemExit\u001b[0m\n"
     ]
    },
    {
     "name": "stdout",
     "output_type": "stream",
     "text": [
      "Error in callback <bound method RoundTrip.manage_jupter_change of <hatchet.external.roundtrip.roundtrip.manager.RoundTrip object at 0x7fe3399cb4f0>> (for post_run_cell), with arguments args (<ExecutionResult object at 7fe338d91a00, execution_count=3 error_before_exec=None error_in_exec= info=<ExecutionInfo object at 7fe339179250, raw_cell=\"dataset = \"/usr/gapps/spot/datasets/newdemo/test\"\n",
      "..\" store_history=True silent=False shell_futures=True cell_id=None> result=None>,),kwargs {}:\n"
     ]
    },
    {
     "ename": "TypeError",
     "evalue": "manage_jupter_change() takes 1 positional argument but 2 were given",
     "output_type": "error",
     "traceback": [
      "\u001b[0;31m---------------------------------------------------------------------------\u001b[0m",
      "\u001b[0;31mTypeError\u001b[0m                                 Traceback (most recent call last)",
      "\u001b[0;31mTypeError\u001b[0m: manage_jupter_change() takes 1 positional argument but 2 were given"
     ]
    }
   ],
   "source": [
    "dataset = \"/usr/gapps/spot/datasets/newdemo/test\"\n",
    "xaxis = \"launchday\"\n",
    "metadata_key = \"test\"\n",
    "processes_for_parallel_read = 15\n",
    "\n",
    "import sys\n",
    " \n",
    "sys.path.append(\"/usr/gapps/spot/treescape/python\")\n",
    "sys.path.append(\"/usr/gapps/spot/treescape/viz\")\n",
    " \n",
    "from StackedLine import StackedLine\n",
    "from TreeScapeModel import TreeScapeModel\n",
    "from CaliReader import CaliReader\n",
    " \n",
    "caliReader = CaliReader(dataset, processes_for_parallel_read)\n",
    "tsm = TreeScapeModel(caliReader)\n",
    " \n",
    "sorted_tsm = sorted(tsm, key=lambda run:run.metadata[xaxis])\n",
    "tsm.update(sorted_tsm)\n",
    " \n",
    "sl = StackedLine()\n",
    "sl.setYMin(0)\n",
    "sl.setXAxis(xaxis)"
   ]
  },
  {
   "cell_type": "code",
   "execution_count": null,
   "id": "1fff6eb2-776c-4044-9135-cc0cbdc638ff",
   "metadata": {
    "tags": []
   },
   "outputs": [],
   "source": [
    "for testname in { t.metadata[metadata_key] for t in tsm }:\n",
    "    print(testname)\n",
    "    sl.render([t for t in tsm if t.metadata[metadata_key] == testname])"
   ]
  },
  {
   "cell_type": "code",
   "execution_count": null,
   "id": "b0dcd6e1-39f7-475b-aa1d-2fecd7e01f03",
   "metadata": {},
   "outputs": [],
   "source": []
  }
 ],
 "metadata": {
  "kernelspec": {
   "display_name": "Python 3 (ipykernel)",
   "language": "python",
   "name": "python3"
  },
  "language_info": {
   "codemirror_mode": {
    "name": "ipython",
    "version": 3
   },
   "file_extension": ".py",
   "mimetype": "text/x-python",
   "name": "python",
   "nbconvert_exporter": "python",
   "pygments_lexer": "ipython3",
   "version": "3.9.13"
  }
 },
 "nbformat": 4,
 "nbformat_minor": 5
}
