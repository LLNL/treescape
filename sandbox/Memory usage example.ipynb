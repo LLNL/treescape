{
 "cells": [
  {
   "cell_type": "code",
   "execution_count": 6,
   "id": "a705ed25",
   "metadata": {},
   "outputs": [
    {
     "name": "stdout",
     "output_type": "stream",
     "text": [
      "Memory usage: 0 bytes\n",
      "64\n"
     ]
    }
   ],
   "source": [
    "import time\n",
    "\n",
    "def my_func():\n",
    "    a = [i for i in range(1000000)]\n",
    "    time.sleep(1)  # Simulate some computation\n",
    "    b = [i * 2 for i in a]\n",
    "    del a  # Simulate freeing up memory\n",
    "    \n",
    "    \n",
    "    \n",
    "import sys\n",
    "\n",
    "# Get size of variables before function call\n",
    "start_memory = sys.getsizeof({})\n",
    "\n",
    "# Call the function\n",
    "my_func()\n",
    "a = [23842834234,234,842834234,234,842834234,234,842834234,234,842834234,234,842834234,234,842834234,234,842834234,234]\n",
    "\n",
    "# Get size of variables after function call\n",
    "end_memory = sys.getsizeof({})\n",
    "\n",
    "# Calculate memory usage\n",
    "memory_usage = end_memory - start_memory\n",
    "print(\"Memory usage:\", memory_usage, \"bytes\")\n",
    "print(end_memory)"
   ]
  },
  {
   "cell_type": "code",
   "execution_count": 7,
   "id": "d3757e48",
   "metadata": {},
   "outputs": [
    {
     "name": "stdout",
     "output_type": "stream",
     "text": [
      "Memory increase: 0 bytes\n"
     ]
    }
   ],
   "source": [
    "import time\n",
    "import sys\n",
    "\n",
    "def my_func():\n",
    "    a = [i for i in range(1000000)]\n",
    "    start_memory = sys.getsizeof(a)  # Get size of list 'a'\n",
    "    time.sleep(1)  # Simulate some computation\n",
    "    b = [i * 2 for i in a]\n",
    "    del a  # Simulate freeing up memory\n",
    "    end_memory = sys.getsizeof(b)  # Get size of list 'b'\n",
    "    memory_usage = end_memory - start_memory\n",
    "    return memory_usage\n",
    "\n",
    "memory_increase = my_func()\n",
    "print(\"Memory increase:\", memory_increase, \"bytes\")\n"
   ]
  },
  {
   "cell_type": "code",
   "execution_count": 8,
   "id": "ecb731f9",
   "metadata": {},
   "outputs": [
    {
     "name": "stdout",
     "output_type": "stream",
     "text": [
      "Memory increase: 0 bytes\n"
     ]
    }
   ],
   "source": [
    "import time\n",
    "import sys\n",
    "\n",
    "def my_func():\n",
    "    a = [i for i in range(10000000)]  # Create a larger list\n",
    "    start_memory = sys.getsizeof(a)  # Get size of list 'a'\n",
    "    time.sleep(1)  # Simulate some computation\n",
    "    b = [i * 2 for i in a]\n",
    "    del a  # Simulate freeing up memory\n",
    "    end_memory = sys.getsizeof(b)  # Get size of list 'b'\n",
    "    memory_usage = end_memory - start_memory\n",
    "    return memory_usage\n",
    "\n",
    "memory_increase = my_func()\n",
    "print(\"Memory increase:\", memory_increase, \"bytes\")\n"
   ]
  },
  {
   "cell_type": "code",
   "execution_count": 1,
   "id": "0c6f3eac",
   "metadata": {},
   "outputs": [
    {
     "name": "stdout",
     "output_type": "stream",
     "text": [
      "peak memory: 61.22 MiB, increment: 1.36 MiB\n"
     ]
    }
   ],
   "source": [
    "%load_ext memory_profiler\n",
    "\n",
    "import random\n",
    "import time\n",
    "\n",
    "# Define a function to profile\n",
    "def my_func():\n",
    "    numbers = []\n",
    "    for _ in range(100000):\n",
    "        numbers.append(random.randint(1, 1000))\n",
    "    time.sleep(2)\n",
    "    return numbers\n",
    "\n",
    "# Profile the function using %memit\n",
    "%memit my_func()\n"
   ]
  },
  {
   "cell_type": "code",
   "execution_count": null,
   "id": "6ab303af",
   "metadata": {},
   "outputs": [],
   "source": []
  }
 ],
 "metadata": {
  "kernelspec": {
   "display_name": "Python 3 (ipykernel)",
   "language": "python",
   "name": "python3"
  },
  "language_info": {
   "codemirror_mode": {
    "name": "ipython",
    "version": 3
   },
   "file_extension": ".py",
   "mimetype": "text/x-python",
   "name": "python",
   "nbconvert_exporter": "python",
   "pygments_lexer": "ipython3",
   "version": "3.9.13"
  }
 },
 "nbformat": 4,
 "nbformat_minor": 5
}
