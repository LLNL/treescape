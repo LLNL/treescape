{
 "cells": [
  {
   "cell_type": "code",
   "execution_count": 1,
   "id": "e025d42f",
   "metadata": {},
   "outputs": [
    {
     "name": "stdout",
     "output_type": "stream",
     "text": [
      "[{'min#inclusive#sum#time.duration': '0.004547', 'max#inclusive#sum#time.duration': '0.004547', 'avg#inclusive#sum#time.duration': '0.004547'}, {'function': 'main', 'path': ['main'], 'min#inclusive#sum#time.duration': '79.950869', 'max#inclusive#sum#time.duration': '79.950869', 'avg#inclusive#sum#time.duration': '79.950869'}, {'function': 'main', 'path': ['main', 'lulesh.cycle'], 'loop': 'lulesh.cycle', 'min#inclusive#sum#time.duration': '79.885921', 'max#inclusive#sum#time.duration': '79.885921', 'avg#inclusive#sum#time.duration': '79.885921'}, {'function': ['main', 'TimeIncrement'], 'path': ['main', 'lulesh.cycle', 'TimeIncrement'], 'loop': 'lulesh.cycle', 'min#inclusive#sum#time.duration': '0.032186', 'max#inclusive#sum#time.duration': '0.032186', 'avg#inclusive#sum#time.duration': '0.032186'}, {'function': ['main', 'LagrangeLeapFrog'], 'path': ['main', 'lulesh.cycle', 'LagrangeLeapFrog'], 'loop': 'lulesh.cycle', 'min#inclusive#sum#time.duration': '79.840035', 'max#inclusive#sum#time.duration': '79.840035', 'avg#inclusive#sum#time.duration': '79.840035'}, {'function': ['main', 'LagrangeLeapFrog', 'LagrangeNodal'], 'path': ['main', 'lulesh.cycle', 'LagrangeLeapFrog', 'LagrangeNodal'], 'loop': 'lulesh.cycle', 'min#inclusive#sum#time.duration': '57.258493', 'max#inclusive#sum#time.duration': '57.258493', 'avg#inclusive#sum#time.duration': '57.258493'}, {'function': ['main', 'LagrangeLeapFrog', 'LagrangeNodal', 'CalcForceForNodes'], 'path': ['main', 'lulesh.cycle', 'LagrangeLeapFrog', 'LagrangeNodal', 'CalcForceForNodes'], 'loop': 'lulesh.cycle', 'min#inclusive#sum#time.duration': '56.424499', 'max#inclusive#sum#time.duration': '56.424499', 'avg#inclusive#sum#time.duration': '56.424499'}, {'function': ['main', 'LagrangeLeapFrog', 'LagrangeNodal', 'CalcForceForNodes', 'CalcVolumeForceForElems'], 'path': ['main', 'lulesh.cycle', 'LagrangeLeapFrog', 'LagrangeNodal', 'CalcForceForNodes', 'CalcVolumeForceForElems'], 'loop': 'lulesh.cycle', 'min#inclusive#sum#time.duration': '56.272907', 'max#inclusive#sum#time.duration': '56.272907', 'avg#inclusive#sum#time.duration': '56.272907'}, {'function': ['main', 'LagrangeLeapFrog', 'LagrangeNodal', 'CalcForceForNodes', 'CalcVolumeForceForElems', 'IntegrateStressForElems'], 'path': ['main', 'lulesh.cycle', 'LagrangeLeapFrog', 'LagrangeNodal', 'CalcForceForNodes', 'CalcVolumeForceForElems', 'IntegrateStressForElems'], 'loop': 'lulesh.cycle', 'min#inclusive#sum#time.duration': '11.209784', 'max#inclusive#sum#time.duration': '11.209784', 'avg#inclusive#sum#time.duration': '11.209784'}, {'function': ['main', 'LagrangeLeapFrog', 'LagrangeNodal', 'CalcForceForNodes', 'CalcVolumeForceForElems', 'CalcHourglassControlForElems'], 'path': ['main', 'lulesh.cycle', 'LagrangeLeapFrog', 'LagrangeNodal', 'CalcForceForNodes', 'CalcVolumeForceForElems', 'CalcHourglassControlForElems'], 'loop': 'lulesh.cycle', 'min#inclusive#sum#time.duration': '44.650230', 'max#inclusive#sum#time.duration': '44.650230', 'avg#inclusive#sum#time.duration': '44.650230'}, {'function': ['main', 'LagrangeLeapFrog', 'LagrangeNodal', 'CalcForceForNodes', 'CalcVolumeForceForElems', 'CalcHourglassControlForElems', 'CalcFBHourglassForceForElems'], 'path': ['main', 'lulesh.cycle', 'LagrangeLeapFrog', 'LagrangeNodal', 'CalcForceForNodes', 'CalcVolumeForceForElems', 'CalcHourglassControlForElems', 'CalcFBHourglassForceForElems'], 'loop': 'lulesh.cycle', 'min#inclusive#sum#time.duration': '14.379508', 'max#inclusive#sum#time.duration': '14.379508', 'avg#inclusive#sum#time.duration': '14.379508'}, {'function': ['main', 'LagrangeLeapFrog', 'LagrangeElements'], 'path': ['main', 'lulesh.cycle', 'LagrangeLeapFrog', 'LagrangeElements'], 'loop': 'lulesh.cycle', 'min#inclusive#sum#time.duration': '21.695780', 'max#inclusive#sum#time.duration': '21.695780', 'avg#inclusive#sum#time.duration': '21.695780'}, {'function': ['main', 'LagrangeLeapFrog', 'LagrangeElements', 'CalcLagrangeElements'], 'path': ['main', 'lulesh.cycle', 'LagrangeLeapFrog', 'LagrangeElements', 'CalcLagrangeElements'], 'loop': 'lulesh.cycle', 'min#inclusive#sum#time.duration': '2.394917', 'max#inclusive#sum#time.duration': '2.394917', 'avg#inclusive#sum#time.duration': '2.394917'}, {'function': ['main', 'LagrangeLeapFrog', 'LagrangeElements', 'CalcLagrangeElements', 'CalcKinematicsForElems'], 'path': ['main', 'lulesh.cycle', 'LagrangeLeapFrog', 'LagrangeElements', 'CalcLagrangeElements', 'CalcKinematicsForElems'], 'loop': 'lulesh.cycle', 'min#inclusive#sum#time.duration': '2.260439', 'max#inclusive#sum#time.duration': '2.260439', 'avg#inclusive#sum#time.duration': '2.260439'}, {'function': ['main', 'LagrangeLeapFrog', 'LagrangeElements', 'CalcQForElems'], 'path': ['main', 'lulesh.cycle', 'LagrangeLeapFrog', 'LagrangeElements', 'CalcQForElems'], 'loop': 'lulesh.cycle', 'min#inclusive#sum#time.duration': '2.870288', 'max#inclusive#sum#time.duration': '2.870288', 'avg#inclusive#sum#time.duration': '2.870288'}, {'function': ['main', 'LagrangeLeapFrog', 'LagrangeElements', 'CalcQForElems', 'CalcMonotonicQForElems'], 'path': ['main', 'lulesh.cycle', 'LagrangeLeapFrog', 'LagrangeElements', 'CalcQForElems', 'CalcMonotonicQForElems'], 'loop': 'lulesh.cycle', 'min#inclusive#sum#time.duration': '1.389369', 'max#inclusive#sum#time.duration': '1.389369', 'avg#inclusive#sum#time.duration': '1.389369'}, {'function': ['main', 'LagrangeLeapFrog', 'LagrangeElements', 'ApplyMaterialPropertiesForElems'], 'path': ['main', 'lulesh.cycle', 'LagrangeLeapFrog', 'LagrangeElements', 'ApplyMaterialPropertiesForElems'], 'loop': 'lulesh.cycle', 'min#inclusive#sum#time.duration': '16.367402', 'max#inclusive#sum#time.duration': '16.367402', 'avg#inclusive#sum#time.duration': '16.367402'}, {'function': ['main', 'LagrangeLeapFrog', 'LagrangeElements', 'ApplyMaterialPropertiesForElems', 'EvalEOSForElems'], 'path': ['main', 'lulesh.cycle', 'LagrangeLeapFrog', 'LagrangeElements', 'ApplyMaterialPropertiesForElems', 'EvalEOSForElems'], 'loop': 'lulesh.cycle', 'min#inclusive#sum#time.duration': '16.247558', 'max#inclusive#sum#time.duration': '16.247558', 'avg#inclusive#sum#time.duration': '16.247558'}, {'function': ['main', 'LagrangeLeapFrog', 'LagrangeElements', 'ApplyMaterialPropertiesForElems', 'EvalEOSForElems', 'CalcEnergyForElems'], 'path': ['main', 'lulesh.cycle', 'LagrangeLeapFrog', 'LagrangeElements', 'ApplyMaterialPropertiesForElems', 'EvalEOSForElems', 'CalcEnergyForElems'], 'loop': 'lulesh.cycle', 'min#inclusive#sum#time.duration': '12.419295', 'max#inclusive#sum#time.duration': '12.419295', 'avg#inclusive#sum#time.duration': '12.419295'}, {'function': ['main', 'LagrangeLeapFrog', 'CalcTimeConstraintsForElems'], 'path': ['main', 'lulesh.cycle', 'LagrangeLeapFrog', 'CalcTimeConstraintsForElems'], 'loop': 'lulesh.cycle', 'min#inclusive#sum#time.duration': '0.871165', 'max#inclusive#sum#time.duration': '0.871165', 'avg#inclusive#sum#time.duration': '0.871165'}]\n",
      "{'cali.caliper.version': '2.2.0-dev', 'cali.channel': 'spot', 'user': 'chavez35', 'launchdate': '1566131735', 'executablepath': '/home/bin/', 'libraries': 'GCC-4.93', 'cmdline': '[-bin]', 'cluster': 'rockc', 'jobsize': '2', 'threads': '59', 'iterations': '9480000', 'problem_size': '71', 'num_regions': '11', 'region_cost': '4', 'region_balance': '8', 'elapsed_time': '56.00000000000001', 'figure_of_merit': '0', 'spot.metrics': 'optional#max#duration'}\n"
     ]
    }
   ],
   "source": [
    "import caliperreader as cr\n",
    "\n",
    "r = cr.CaliperReader()\n",
    "r.read('/Users/aschwanden1/lulesh_gen/100/49.cali')\n",
    "print(r.records)\n",
    "\n",
    "glob0 = cr.read_caliper_globals('/Users/aschwanden1/lulesh_gen/100/49.cali')\n",
    "\n",
    "print(glob0)"
   ]
  },
  {
   "cell_type": "code",
   "execution_count": null,
   "id": "30324018",
   "metadata": {},
   "outputs": [],
   "source": []
  }
 ],
 "metadata": {
  "kernelspec": {
   "display_name": "Python 3 (ipykernel)",
   "language": "python",
   "name": "python3"
  },
  "language_info": {
   "codemirror_mode": {
    "name": "ipython",
    "version": 3
   },
   "file_extension": ".py",
   "mimetype": "text/x-python",
   "name": "python",
   "nbconvert_exporter": "python",
   "pygments_lexer": "ipython3",
   "version": "3.9.13"
  }
 },
 "nbformat": 4,
 "nbformat_minor": 5
}
